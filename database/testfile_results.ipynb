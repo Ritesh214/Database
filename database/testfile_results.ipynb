{
 "cells": [
  {
   "cell_type": "code",
   "execution_count": 6,
   "metadata": {
    "scrolled": true
   },
   "outputs": [
    {
     "name": "stdout",
     "output_type": "stream",
     "text": [
      "{'age_upon_outcome': '3 years', 'animal_id': 'GH7001', 'animal_type': 'Dog', 'breed': 'Grey hound', 'color': 'Black', 'date_of_birth': '2019-06-02', 'datetime': '2000-01-01 01:00:00', 'monthyear': '2000-01-01T01:00:00', 'name': 'Whimper', 'outcome_subtype': 'SCRP', 'outcome_type': 'Transfer', 'sex_upon_outcome': 'Neutered Male', 'location_lat': '25.0000', 'location_long': '71.0000', 'age_upon_outcome_in_weeks': '56.012'}\n",
      "{'age_upon_outcome': '3 years', 'animal_id': 'GH7001', 'animal_type': 'Dog', 'breed': 'Grey hound', 'color': 'Black', 'date_of_birth': '2019-06-02', 'datetime': '2000-01-01 01:00:00', 'monthyear': '2000-01-01T01:00:00', 'name': 'Whimper', 'outcome_subtype': 'SCRP', 'outcome_type': 'Transfer', 'sex_upon_outcome': 'Neutered Male', 'location_lat': '25.0000', 'location_long': '71.0000', 'age_upon_outcome_in_weeks': '56.012'}\n"
     ]
    }
   ],
   "source": [
    "from animalsCRUD import AnimalShelter\n",
    "\n",
    "username = \"aacuser\"\n",
    "password = \"password\"\n",
    "\n",
    "testBuild = AnimalShelter(username, password)\n",
    "\n",
    "new_data = [\n",
    "    {\"age_upon_outcome\": \"3 years\",\n",
    "     \"animal_id\": \"GH7001\",\n",
    "     \"animal_type\": \"Dog\",\n",
    "     \"breed\": \"Grey hound\",\n",
    "     \"color\": \"Black\",\n",
    "     \"date_of_birth\": \"2019-06-01\",\n",
    "     \"datetime\": \"2000-01-01 01:00:00\",\n",
    "     \"monthyear\": \"2000-01-01T01:00:00\",\n",
    "     \"name\": \"Whimper\",\n",
    "     \"outcome_subtype\": \"SCRP\",\n",
    "     \"outcome_type\": \"Transfer\",\n",
    "     \"sex_upon_outcome\": \"Neutered Male\",\n",
    "     \"location_lat\": \"25.0000\",\n",
    "     \"location_long\": \"71.0000\",\n",
    "     \"age_upon_outcome_in_weeks\": \"56.012\"}\n",
    "]\n",
    "\n",
    "for x in new_data:\n",
    "    testBuild.create(x)\n",
    "\n",
    "tester = testBuild.read({\"animal_id\": \"GH7001\"})\n",
    "for y in tester:\n",
    "    print(y)"
   ]
  },
  {
   "cell_type": "code",
   "execution_count": 8,
   "metadata": {},
   "outputs": [],
   "source": [
    "updateA = testBuild.update({\"animal_id\": \"GH7001\"}, {\"$set\":{\"animal_type\": \"dog\"}})"
   ]
  },
  {
   "cell_type": "code",
   "execution_count": 9,
   "metadata": {},
   "outputs": [
    {
     "name": "stdout",
     "output_type": "stream",
     "text": [
      "{'age_upon_outcome': '3 years', 'animal_id': 'GH7001', 'animal_type': 'dog', 'breed': 'Grey hound', 'color': 'Black', 'date_of_birth': '2019-06-01', 'datetime': '2000-01-01 01:00:00', 'monthyear': '2000-01-01T01:00:00', 'name': 'Whimper', 'outcome_subtype': 'SCRP', 'outcome_type': 'Transfer', 'sex_upon_outcome': 'Neutered Male', 'location_lat': '25.0000', 'location_long': '71.0000', 'age_upon_outcome_in_weeks': '56.012'}\n",
      "{'age_upon_outcome': '3 years', 'animal_id': 'GH7001', 'animal_type': 'Dog', 'breed': 'Grey hound', 'color': 'Black', 'date_of_birth': '2019-06-01', 'datetime': '2000-01-01 01:00:00', 'monthyear': '2000-01-01T01:00:00', 'name': 'Whimper', 'outcome_subtype': 'SCRP', 'outcome_type': 'Transfer', 'sex_upon_outcome': 'Neutered Male', 'location_lat': '25.0000', 'location_long': '71.0000', 'age_upon_outcome_in_weeks': '56.012'}\n"
     ]
    }
   ],
   "source": [
    "tester = testBuild.read({\"animal_id\": \"GH7001\"})\n",
    "for y in tester:\n",
    "    print(y)"
   ]
  },
  {
   "cell_type": "code",
   "execution_count": 12,
   "metadata": {},
   "outputs": [],
   "source": [
    "deleteA = testBuild.delete({\"animal_id\": \"GH7001\"})"
   ]
  },
  {
   "cell_type": "code",
   "execution_count": 14,
   "metadata": {},
   "outputs": [],
   "source": [
    "tester = testBuild.read({\"animal_id\": \"GH7001\"})\n",
    "for y in tester:\n",
    "    print(y)"
   ]
  },
  {
   "cell_type": "code",
   "execution_count": null,
   "metadata": {},
   "outputs": [],
   "source": []
  }
 ],
 "metadata": {
  "kernelspec": {
   "display_name": "Python 3",
   "language": "python",
   "name": "python3"
  },
  "language_info": {
   "codemirror_mode": {
    "name": "ipython",
    "version": 3
   },
   "file_extension": ".py",
   "mimetype": "text/x-python",
   "name": "python",
   "nbconvert_exporter": "python",
   "pygments_lexer": "ipython3",
   "version": "3.6.9"
  }
 },
 "nbformat": 4,
 "nbformat_minor": 2
}
